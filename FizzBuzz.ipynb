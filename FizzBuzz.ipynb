{
  "nbformat": 4,
  "nbformat_minor": 0,
  "metadata": {
    "colab": {
      "provenance": [],
      "include_colab_link": true
    },
    "kernelspec": {
      "name": "python3",
      "display_name": "Python 3"
    },
    "language_info": {
      "name": "python"
    }
  },
  "cells": [
    {
      "cell_type": "markdown",
      "metadata": {
        "id": "view-in-github",
        "colab_type": "text"
      },
      "source": [
        "<a href=\"https://colab.research.google.com/github/lc3947/hw1/blob/main/FizzBuzz.ipynb\" target=\"_parent\"><img src=\"https://colab.research.google.com/assets/colab-badge.svg\" alt=\"Open In Colab\"/></a>"
      ]
    },
    {
      "cell_type": "code",
      "execution_count": 9,
      "metadata": {
        "colab": {
          "base_uri": "https://localhost:8080/",
          "height": 108
        },
        "id": "SMC-bUUN9-gj",
        "outputId": "56c3e000-d7dc-463b-94c9-75e7cb25da26"
      },
      "outputs": [
        {
          "output_type": "error",
          "ename": "SyntaxError",
          "evalue": "incomplete input (<ipython-input-9-9f55222a6712>, line 1)",
          "traceback": [
            "\u001b[0;36m  File \u001b[0;32m\"<ipython-input-9-9f55222a6712>\"\u001b[0;36m, line \u001b[0;32m1\u001b[0m\n\u001b[0;31m    if i%3==0:\u001b[0m\n\u001b[0m              ^\u001b[0m\n\u001b[0;31mSyntaxError\u001b[0m\u001b[0;31m:\u001b[0m incomplete input\n"
          ]
        }
      ],
      "source": [
        "#!/usr/bin/env python3\n",
        "# -*- coding: utf-8 -*-\n",
        "\"\"\"\n",
        "Created on Tue Jun 11 21:47:04 2024\n",
        "\n",
        "@author: tleitch\n",
        "\"\"\"\n",
        "\n",
        "# Have this code run for any start and finish values\n",
        "\n",
        "def FizzBuzz(start, finish):\n",
        "    outlist = []\n",
        "    for i in range(start,finish+1):\n",
        "      if i%3==0:\n",
        "        outlist.append(\"Fizz\")\n",
        "      elif i%5==0:\n",
        "        outlist.append(\"buzz\")\n",
        "      elif I%3==0 and i%5==0:\n",
        "        outlist.append(\"FizzBuzz\")\n",
        "      else:\n",
        "        outlist.append(i)\n",
        "        print(outlist)\n",
        "    return(outlist)\n",
        "print(FizzBuzz(1,16))\n",
        "# Tools: Append to a list\n",
        "\n",
        "myEmptyList = []\n",
        "for i in range(1,16):\n",
        "    myEmptyList.append(i)\n",
        "\n",
        "print(myEmptyList)\n"
      ]
    }
  ]
}