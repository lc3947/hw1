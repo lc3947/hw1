{
  "nbformat": 4,
  "nbformat_minor": 0,
  "metadata": {
    "colab": {
      "provenance": [],
      "authorship_tag": "ABX9TyMJnFLI98JiMJZLN97J2DnA",
      "include_colab_link": true
    },
    "kernelspec": {
      "name": "python3",
      "display_name": "Python 3"
    },
    "language_info": {
      "name": "python"
    }
  },
  "cells": [
    {
      "cell_type": "markdown",
      "metadata": {
        "id": "view-in-github",
        "colab_type": "text"
      },
      "source": [
        "<a href=\"https://colab.research.google.com/github/lc3947/hw1/blob/main/HW1_.ipynb\" target=\"_parent\"><img src=\"https://colab.research.google.com/assets/colab-badge.svg\" alt=\"Open In Colab\"/></a>"
      ]
    },
    {
      "cell_type": "code",
      "execution_count": null,
      "metadata": {
        "id": "_nANT-xZrd4g"
      },
      "outputs": [],
      "source": [
        "def WhoAmI():\n",
        "  return('lc3947')"
      ]
    },
    {
      "cell_type": "code",
      "source": [
        "def getBondPrice(y, face, couponRate, m, ppy):\n",
        "  coupon = (face*couponRate)/ppy\n",
        "  sumDcf = 0\n",
        "  numCoupon= m*ppy\n",
        "  for i in range(numCoupon):\n",
        "    dcf = 1/(1+(y/ppy))**(i+1)\n",
        "    sumDcf += coupon *dcf\n",
        "\n",
        "  PriceBond = sumDcf+ (face/(1+(y/ppy))**numCoupon)\n",
        "  return(PriceBond)\n",
        "\n",
        "print(round(getBondPrice(.03, 2000000, .04, 10,  1)))\n",
        "\n",
        "\n"
      ],
      "metadata": {
        "colab": {
          "base_uri": "https://localhost:8080/"
        },
        "id": "WwucgH4ywDhS",
        "outputId": "986fa30d-eaa1-4b2c-a26b-e47ade09c42b"
      },
      "execution_count": 1,
      "outputs": [
        {
          "output_type": "stream",
          "name": "stdout",
          "text": [
            "2170604\n"
          ]
        }
      ]
    },
    {
      "cell_type": "code",
      "source": [
        "import numpy as np\n",
        "def getBondPrice(y, face, couponRate, m, ppy):\n",
        "  coupon = (face*couponRate)/ppy\n",
        "  numCoupon= m*ppy\n",
        "  periods = np.arange(1,numCoupon+1)\n",
        "  dcf = 1/((1+(y/ppy))**periods)\n",
        "  sumDcf = np.sum(coupon*dcf)\n",
        "  pv = face/ ((1+(y/ppy))**numCoupon)\n",
        "  return sumDcf+pv\n",
        "print(round(getBondPrice(.03, 2000000, .04, 10,  1)))"
      ],
      "metadata": {
        "colab": {
          "base_uri": "https://localhost:8080/"
        },
        "id": "GXnpqneo2X_A",
        "outputId": "b6f1a098-5fbf-4e65-eede-3c0446c207ca"
      },
      "execution_count": 6,
      "outputs": [
        {
          "output_type": "stream",
          "name": "stdout",
          "text": [
            "2170604\n"
          ]
        }
      ]
    },
    {
      "cell_type": "code",
      "source": [],
      "metadata": {
        "id": "lhIjrK6f226Z"
      },
      "execution_count": null,
      "outputs": []
    },
    {
      "cell_type": "code",
      "source": [
        "def getBondDuration(y, face, couponRate, m, ppy):\n",
        "  C= (couponRate*face)/ppy\n",
        "  PV_Total = 0\n",
        "  PV_Timeweighted = 0\n",
        "\n",
        "  for i in range(m*ppy):\n",
        "    Time = (i+1)/ppy\n",
        "    DiscountFactor = (1+y/ppy)**-(i+1)\n",
        "    PV_Total += C*DiscountFactor\n",
        "    PV_Timeweighted += Time*C*DiscountFactor\n",
        "\n",
        "  DiscountFactor = (1 + y / ppy) **  -(m * ppy)\n",
        "  PV_Total += face * DiscountFactor\n",
        "  PV_Timeweighted += (m * face * DiscountFactor)\n",
        "  BondDuration = PV_Timeweighted/PV_Total\n",
        "  return BondDuration\n",
        "\n",
        "print(getBondDuration(.03, 2000000, .04, 10,  1))"
      ],
      "metadata": {
        "id": "9AQbHd9AxMv6",
        "colab": {
          "base_uri": "https://localhost:8080/"
        },
        "outputId": "97ae046e-f429-4f03-8260-071f7c847e1a"
      },
      "execution_count": null,
      "outputs": [
        {
          "output_type": "stream",
          "name": "stdout",
          "text": [
            "8.508690304459574\n"
          ]
        }
      ]
    },
    {
      "cell_type": "code",
      "source": [
        "import numpy as np\n",
        "def"
      ],
      "metadata": {
        "id": "5eaKAmwX2Qvw"
      },
      "execution_count": null,
      "outputs": []
    },
    {
      "cell_type": "code",
      "source": [
        "def getBondPrice_E(face,couponRate, m, yc):\n",
        "  bondPrice = 0\n",
        "  coupon = face*couponRate\n",
        "\n",
        "  for i, rate in enumerate(zip(times, yc))\n",
        "    pv = 1/((1+rate)**t)\n",
        "\n",
        "    if i != m:\n",
        "      bondPrice += pv*coupon\n",
        "    else:\n",
        "      bondPrice += (face+ coupon)*pv\n",
        "  return bondPrice\n",
        "\n",
        "yc = [0.010, 0.015, 0.020, 0.025, 0.030]\n",
        "print(getBondPrice_E(2000000, 0.04,len(yc), yc))"
      ],
      "metadata": {
        "id": "x4T5QSv-2nBq",
        "colab": {
          "base_uri": "https://localhost:8080/"
        },
        "outputId": "6fae58b1-b9a3-43fc-c35c-1444a6c170ca"
      },
      "execution_count": null,
      "outputs": [
        {
          "output_type": "stream",
          "name": "stdout",
          "text": [
            "2098948.9705506554\n"
          ]
        }
      ]
    },
    {
      "cell_type": "code",
      "source": [
        "from os import times\n",
        "def getBondPrice_Z(face,couponRate, times, yc):\n",
        "  bondPrice = 0\n",
        "  coupon = face*couponRate\n",
        "  for i, (t,rate) in enumerate(zip(times, yc)):\n",
        "    pv = 1/((1+rate)**t)\n",
        "\n",
        "    if i != len(times)-1:\n",
        "      bondPrice += pv*coupon\n",
        "    else:\n",
        "      bondPrice += (face+ coupon)*pv\n",
        "  return bondPrice\n",
        "\n",
        "yc = [0.010, 0.015, 0.020, 0.025, 0.030]\n",
        "times = [1,1.5,3,4,7]\n",
        "print(getBondPrice_Z(2000000, 0.04,times, yc))"
      ],
      "metadata": {
        "colab": {
          "base_uri": "https://localhost:8080/"
        },
        "id": "1f3nMec41Wl4",
        "outputId": "2b4bd40e-b153-4f01-bbec-1c87042d9f12"
      },
      "execution_count": null,
      "outputs": [
        {
          "output_type": "stream",
          "name": "stdout",
          "text": [
            "1996533.2719139731\n"
          ]
        }
      ]
    },
    {
      "cell_type": "code",
      "source": [
        "def FizzBuzz(start, finish):\n",
        "  for i in range (start, finish+1):\n",
        "    if i%3 == 0 and i%5 == 0:\n",
        "      print('FizzBuzz')\n",
        "    elif i%3 == 0:\n",
        "      print('Fizz')\n",
        "    elif i%5 == 0:\n",
        "      print('Buzz')\n",
        "    else:\n",
        "      print(i)\n",
        "print(FizzBuzz(1,16))"
      ],
      "metadata": {
        "colab": {
          "base_uri": "https://localhost:8080/"
        },
        "id": "N6nY61Qz29xU",
        "outputId": "58a52ed4-e108-4771-ad02-cb66b59aa04b"
      },
      "execution_count": null,
      "outputs": [
        {
          "output_type": "stream",
          "name": "stdout",
          "text": [
            "1\n",
            "2\n",
            "Fizz\n",
            "4\n",
            "Buzz\n",
            "Fizz\n",
            "7\n",
            "8\n",
            "Fizz\n",
            "Buzz\n",
            "11\n",
            "Fizz\n",
            "13\n",
            "14\n",
            "FizzBuzz\n",
            "16\n",
            "None\n"
          ]
        }
      ]
    },
    {
      "cell_type": "code",
      "source": [
        "import numpy as np\n",
        "def FizzBuzz(start, finish):\n",
        "  nums = np.arange(start,finish+1)\n",
        "  data = np.full(nums.shape, '', dtype = object)\n",
        "  data[nums%3 == 0] = 'Fizz'\n",
        "  data[nums%5 == 0] = 'Buzz'\n",
        "  data[(nums%3 == 0) & (nums%5 == 0)] = 'FizzBuzz'\n",
        "  data[data == ''] = nums[data == '']\n",
        "  return data\n",
        "\n",
        "print(FizzBuzz(40,45))"
      ],
      "metadata": {
        "colab": {
          "base_uri": "https://localhost:8080/"
        },
        "id": "76NmeS0a4mGz",
        "outputId": "5195ebb4-70f5-4632-88e2-4e4c609b7acf"
      },
      "execution_count": 15,
      "outputs": [
        {
          "output_type": "stream",
          "name": "stdout",
          "text": [
            "['Buzz' 41 'Fizz' 43 44 'FizzBuzz']\n"
          ]
        }
      ]
    },
    {
      "cell_type": "code",
      "source": [
        "def MyMatMult1(v1, v2):\n",
        "  lenV = len(v1)\n",
        "  if(lenV != len(v2)): return(\"ERROR length mismatch\")\n",
        "\n",
        "  dot = 0\n",
        "  for i in range(lenV):\n",
        "    dot += v1[i]*v2[i]\n",
        "  return dot\n",
        "\n",
        "v1 = [1,2,3]\n",
        "v2 = [1,4,7]\n",
        "print(MyMatMult1(v1,v2))"
      ],
      "metadata": {
        "colab": {
          "base_uri": "https://localhost:8080/"
        },
        "id": "SFOjgij386cZ",
        "outputId": "f87a1932-55c6-402b-90b6-057cb50ca617"
      },
      "execution_count": null,
      "outputs": [
        {
          "output_type": "stream",
          "name": "stdout",
          "text": [
            "30\n"
          ]
        }
      ]
    },
    {
      "cell_type": "code",
      "source": [
        "def MyMatMult2(Vec, matrix):\n",
        "  lenV = len(Vec)\n",
        "  if(lenV != len(matrix)): return(\"ERROR length mismatch\")\n",
        "\n",
        "  result = [0] * len(matrix)\n",
        "  for i in range(len(matrix)):\n",
        "    for j in range(len(matrix)):\n",
        "      result[i] += Vec[j]*matrix[j][i]\n",
        "  return result\n",
        "\n",
        "Vec = [1,2,3]\n",
        "matrix = [[1,2,3],[4,5,6],[7,8,9]]\n",
        "print(MyMatMult2(Vec,matrix))\n"
      ],
      "metadata": {
        "colab": {
          "base_uri": "https://localhost:8080/"
        },
        "id": "MiTcBfgd927T",
        "outputId": "df6a8ab1-0086-4242-b521-317952e2ba71"
      },
      "execution_count": null,
      "outputs": [
        {
          "output_type": "stream",
          "name": "stdout",
          "text": [
            "[30, 36, 42]\n"
          ]
        }
      ]
    },
    {
      "cell_type": "code",
      "source": [],
      "metadata": {
        "id": "kpCbJYymAwM4"
      },
      "execution_count": null,
      "outputs": []
    }
  ]
}